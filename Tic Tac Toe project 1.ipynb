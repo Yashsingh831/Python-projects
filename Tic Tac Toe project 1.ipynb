{
 "cells": [
  {
   "cell_type": "code",
   "execution_count": 1,
   "metadata": {},
   "outputs": [],
   "source": [
    "board=[' ']*11\n",
    "def display(board):\n",
    "    print(board[1]+'|'+board[2]+'|'+board[3])\n",
    "    print(board[4]+'|'+board[5]+'|'+board[6])\n",
    "    print(board[7]+'|'+board[8]+'|'+board[9])\n",
    "\n",
    "\n"
   ]
  },
  {
   "cell_type": "code",
   "execution_count": 2,
   "metadata": {},
   "outputs": [],
   "source": [
    "def select_x_o( ):\n",
    "    choice='wrong '\n",
    "    while choice not in ['x','o']:\n",
    "        choice=input('Enter your choice x or o ')\n",
    "        player1_choice=choice\n",
    "    if player1_choice=='x':\n",
    "        player2_choice='o'\n",
    "    else:\n",
    "        player1_choice='o'\n",
    "        player2_choice='x'\n",
    "    return player1_choice,player2_choice"
   ]
  },
  {
   "cell_type": "code",
   "execution_count": 3,
   "metadata": {},
   "outputs": [],
   "source": [
    "\n",
    "def position_index(dict_names):\n",
    "    index='wrong'\n",
    "    valid_entries=list(['1','2','3','4','5','6','7','8','9'])\n",
    "    while index not in valid_entries or index.isdigit()==False:\n",
    "        index=(input('{} enter position you want to enter 1-9 '.format(dict_names)))\n",
    "    return (index)\n",
    "    \n",
    "                  "
   ]
  },
  {
   "cell_type": "code",
   "execution_count": 4,
   "metadata": {},
   "outputs": [],
   "source": [
    "def writing_value_in_display(board,choice,index):\n",
    "    index_int=int(index)\n",
    "    board[index_int]=choice\n",
    "    board=display(board)\n",
    "    #return board"
   ]
  },
  {
   "cell_type": "code",
   "execution_count": 5,
   "metadata": {},
   "outputs": [],
   "source": [
    " def check_win(board,mark):\n",
    "        return ((board[7] == mark and board[8] == mark and board[9] == mark) or # across the top\n",
    "    (board[4] == mark and board[5] == mark and board[6] == mark) or # across the middle\n",
    "    (board[1] == mark and board[2] == mark and board[3] == mark) or # across the bottom\n",
    "    (board[7] == mark and board[4] == mark and board[1] == mark) or # down the middle\n",
    "    (board[8] == mark and board[5] == mark and board[2] == mark) or # down the middle\n",
    "    (board[9] == mark and board[6] == mark and board[3] == mark) or # down the right side\n",
    "    (board[7] == mark and board[5] == mark and board[3] == mark) or # diagonal\n",
    "    (board[9] == mark and board[5] == mark and board[1] == mark)) # diagonal\n",
    "        \n",
    "        \n",
    "        \n",
    "            \n",
    "            "
   ]
  },
  {
   "cell_type": "code",
   "execution_count": 6,
   "metadata": {},
   "outputs": [],
   "source": [
    "\n",
    "import random\n",
    "def who_will_start(dict_names):\n",
    "\n",
    "    num=random.randint(0,1)\n",
    "    if num==0:\n",
    "        print('{} will start'.format(dict_names['player1']))\n",
    "    else:\n",
    "        print('{} will start'.format(dict_names['player2']))\n",
    "    return num    \n",
    "    "
   ]
  },
  {
   "cell_type": "code",
   "execution_count": 7,
   "metadata": {},
   "outputs": [],
   "source": [
    "def extraxting_starting_person_name(dict_names,num):\n",
    "    if num!=0:\n",
    "        dict_names['player1'],dict_names['player2']=dict_names['player2'],dict_names['player1']\n",
    "    return dict_names"
   ]
  },
  {
   "cell_type": "code",
   "execution_count": 8,
   "metadata": {},
   "outputs": [],
   "source": [
    "def user_names():\n",
    "    \n",
    "    dict_names= {'player1':input('Enter username Player1 '),'player2':input('Enter username player2 ') }\n",
    "    return dict_names"
   ]
  },
  {
   "cell_type": "code",
   "execution_count": 9,
   "metadata": {},
   "outputs": [],
   "source": [
    "def check_space(board,index,dict_names):\n",
    "\n",
    "        if board[int(index)]!=' ':\n",
    "            print(' OOps!!! Already occupied enter position again ')\n",
    "            index=position_index(dict_names)\n",
    "        return index\n",
    "    "
   ]
  },
  {
   "cell_type": "code",
   "execution_count": 10,
   "metadata": {},
   "outputs": [],
   "source": [
    "def full(board):\n",
    "    return board[1] in ['x','o'] and board[2] in ['x','o'] and board[3] in ['x','o'] and board[4] in ['x','o'] and board[5] in ['x','o'] and  board[6] in ['x','o'] and board[7] in ['x','o'] and board[8] in ['x','o'] and board[9] in ['x','o']\n",
    "        "
   ]
  },
  {
   "cell_type": "code",
   "execution_count": 15,
   "metadata": {},
   "outputs": [],
   "source": [
    "def Tic_Tac_Toe():\n",
    "   print('Lets begin')\n",
    "   dict_names=user_names()\n",
    "   a=0 \n",
    "\n",
    "   board=[' ']*11\n",
    "   display(board)\n",
    "   num=who_will_start(dict_names)\n",
    "   dict_names=extraxting_starting_person_name(dict_names,num)\n",
    "   \n",
    "   player1_choice,player2_choice=select_x_o( )\n",
    "   while a<5:\n",
    "        index=position_index(dict_names['player1'])\n",
    "        index=check_space(board,index,dict_names)\n",
    "        writing_value_in_display(board,player1_choice,index)\n",
    "\n",
    "        if check_win(board,player1_choice):\n",
    "            print('Hurray!!!! {} wins'.format(dict_names['player1']))\n",
    "            print ('Do you want to continue Y/N?')\n",
    "            wish=input('Enter Y/N')\n",
    "            if wish=='Y':\n",
    "                game()\n",
    "            else:\n",
    "                break\n",
    "        if full(board):\n",
    "            print('OOH!!! its a Draw')\n",
    "            print ('Do you want to continue Y/N?')\n",
    "            wish=input('Enter Y/N')\n",
    "            if wish=='Y':\n",
    "                game()\n",
    "            else:\n",
    "                break\n",
    "  \n",
    "            \n",
    "            \n",
    "        \n",
    "        \n",
    "      \n",
    "        index=position_index(dict_names['player2'])\n",
    "        \n",
    "        index=check_space(board,index,dict_names)\n",
    "        writing_value_in_display(board,player2_choice,index)\n",
    "        if check_win(board,player2_choice):\n",
    "                print('Hurray {} wins'.format(dict_names['player2']))\n",
    "                print ('Do you want to continue Y/N?')\n",
    "                wish=input('Enter Y/N')\n",
    "                if wish=='Y':\n",
    "                    game()\n",
    "                else:\n",
    "                    break\n",
    "        if full(board):\n",
    "            print(' OOH!!! its a Draw')\n",
    "            print ('Do you want to continue Y/N?')\n",
    "            wish=input('Enter Y/N')\n",
    "            if wish=='Y':\n",
    "                game()\n",
    "            else:\n",
    "                break\n",
    "\n",
    "\n",
    "        a=a+1\n",
    "   \n",
    "   print('Thank You!! for playing')        \n",
    "\n",
    "\n",
    "\n"
   ]
  },
  {
   "cell_type": "code",
   "execution_count": 16,
   "metadata": {},
   "outputs": [
    {
     "name": "stdout",
     "output_type": "stream",
     "text": [
      "Lets begin\n",
      "Enter username Player1 Yash\n",
      "Enter username player2 Junu\n",
      " | | \n",
      " | | \n",
      " | | \n",
      "Junu will start\n",
      "Enter your choice x or o x\n",
      "Junu enter position you want to enter 1-9 5\n",
      " | | \n",
      " |x| \n",
      " | | \n",
      "Yash enter position you want to enter 1-9 1\n",
      "o| | \n",
      " |x| \n",
      " | | \n",
      "Junu enter position you want to enter 1-9 9\n",
      "o| | \n",
      " |x| \n",
      " | |x\n",
      "Yash enter position you want to enter 1-9 4\n",
      "o| | \n",
      "o|x| \n",
      " | |x\n",
      "Junu enter position you want to enter 1-9 7\n",
      "o| | \n",
      "o|x| \n",
      "x| |x\n",
      "Yash enter position you want to enter 1-9 3\n",
      "o| |o\n",
      "o|x| \n",
      "x| |x\n",
      "Junu enter position you want to enter 1-9 8\n",
      "o| |o\n",
      "o|x| \n",
      "x|x|x\n",
      "Hurray!!!! Junu wins\n",
      "Do you want to continue Y/N?\n",
      "Enter Y/NN\n",
      "Thank You!! for playing\n"
     ]
    }
   ],
   "source": [
    "Tic_Tac_Toe()"
   ]
  },
  {
   "cell_type": "code",
   "execution_count": null,
   "metadata": {},
   "outputs": [],
   "source": []
  }
 ],
 "metadata": {
  "kernelspec": {
   "display_name": "Python 3",
   "language": "python",
   "name": "python3"
  },
  "language_info": {
   "codemirror_mode": {
    "name": "ipython",
    "version": 3
   },
   "file_extension": ".py",
   "mimetype": "text/x-python",
   "name": "python",
   "nbconvert_exporter": "python",
   "pygments_lexer": "ipython3",
   "version": "3.8.3"
  }
 },
 "nbformat": 4,
 "nbformat_minor": 4
}
